{
 "cells": [
  {
   "cell_type": "code",
   "execution_count": 1,
   "id": "2300c2b8",
   "metadata": {},
   "outputs": [],
   "source": [
    "import pickle"
   ]
  },
  {
   "cell_type": "code",
   "execution_count": 2,
   "id": "930bf22c",
   "metadata": {},
   "outputs": [],
   "source": [
    "filename = \"RANDOM_final.sav\""
   ]
  },
  {
   "cell_type": "code",
   "execution_count": 3,
   "id": "6e6b7edd",
   "metadata": {},
   "outputs": [],
   "source": [
    "loaded_model=pickle.load(open(\"RANDOM_final.sav\",'rb'))"
   ]
  },
  {
   "cell_type": "code",
   "execution_count": 4,
   "id": "40335107",
   "metadata": {
    "scrolled": true
   },
   "outputs": [
    {
     "name": "stdout",
     "output_type": "stream",
     "text": [
      "display_size : 5\n",
      "num_rear_camera : 3\n",
      "battery_capacity : 3500\n",
      "ratings : 5.5\n",
      "sales : 8750.50\n"
     ]
    }
   ],
   "source": [
    "display_size_input = float(input(\"display_size : \"))\n",
    "num_rear_camera_input = float(input(\"num_rear_camera : \"))\n",
    "battery_capacity_input = float(input(\"battery_capacity : \"))\n",
    "ratings_input = float(input(\"ratings : \"))\n",
    "sales_input = float(input(\"sales : \"))"
   ]
  },
  {
   "cell_type": "code",
   "execution_count": 5,
   "id": "74bba8e8",
   "metadata": {},
   "outputs": [
    {
     "name": "stdout",
     "output_type": "stream",
     "text": [
      "Future_Prediction=[14499]\n"
     ]
    }
   ],
   "source": [
    "future_Prediction=loaded_model.predict([[display_size_input,num_rear_camera_input,battery_capacity_input,ratings_input,sales_input]])\n",
    "# change the paramter,play with it.\n",
    "print(\"Future_Prediction={}\".format(future_Prediction))"
   ]
  },
  {
   "cell_type": "code",
   "execution_count": null,
   "id": "65d69bbc",
   "metadata": {},
   "outputs": [],
   "source": []
  }
 ],
 "metadata": {
  "kernelspec": {
   "display_name": "Python 3 (ipykernel)",
   "language": "python",
   "name": "python3"
  },
  "language_info": {
   "codemirror_mode": {
    "name": "ipython",
    "version": 3
   },
   "file_extension": ".py",
   "mimetype": "text/x-python",
   "name": "python",
   "nbconvert_exporter": "python",
   "pygments_lexer": "ipython3",
   "version": "3.11.5"
  }
 },
 "nbformat": 4,
 "nbformat_minor": 5
}
