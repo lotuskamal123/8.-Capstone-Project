{
 "cells": [
  {
   "cell_type": "code",
   "execution_count": 1,
   "id": "0df75294",
   "metadata": {},
   "outputs": [],
   "source": [
    "from sklearn.decomposition import PCA\n",
    "import pandas as pd\n",
    "from sklearn.model_selection import train_test_split \n",
    "import numpy as np\n",
    "from sklearn.preprocessing import StandardScaler\n",
    "from sklearn.linear_model import LogisticRegression\n",
    "import pickle\n",
    "import matplotlib.pyplot as plt"
   ]
  },
  {
   "cell_type": "code",
   "execution_count": 2,
   "id": "98f1fec4",
   "metadata": {},
   "outputs": [],
   "source": [
    "def pca(indep_X,n):\n",
    "    from sklearn.decomposition import PCA\n",
    "    pca = PCA(n_components=n)\n",
    "    X_train = pca.fit_transform(indep_X)\n",
    "    return pca, X_train"
   ]
  },
  {
   "cell_type": "code",
   "execution_count": 3,
   "id": "acc463f4",
   "metadata": {},
   "outputs": [],
   "source": [
    "\n",
    "def split_scalar(indep_X,dep_Y):\n",
    "        X_train, X_test, y_train, y_test = train_test_split(indep_X, dep_Y, test_size = 0.25, random_state = 0)\n",
    "        sc = StandardScaler()\n",
    "        X_train = sc.fit_transform(X_train)\n",
    "        X_test = sc.transform(X_test)    \n",
    "        return X_train, X_test, y_train, y_test"
   ]
  },
  {
   "cell_type": "code",
   "execution_count": 4,
   "id": "389cb4af",
   "metadata": {},
   "outputs": [],
   "source": [
    "def cm_predition (classifier,X_test):\n",
    "    y_pred = classifier.predict(X_test)\n",
    "    from sklearn.metrics import confusion_matrix\n",
    "    cm = confusion_matrix(y_test, y_pred)\n",
    "    from sklearn.metrics import accuracy_score\n",
    "    accuracy= accuracy_score(y_test, y_pred)\n",
    "    return cm,accuracy,classifier"
   ]
  },
  {
   "cell_type": "code",
   "execution_count": 5,
   "id": "df1ed5d6",
   "metadata": {},
   "outputs": [],
   "source": [
    "def logistic(X_train, y_train,X_test):\n",
    "    from sklearn.linear_model import LogisticRegression\n",
    "    classifier = LogisticRegression(random_state = 0)\n",
    "    classifier.fit(X_train, y_train)\n",
    "    cm,accuracy,classifier = cm_predition(classifier,X_test)\n",
    "    return cm,accuracy,classifier\n",
    "\n",
    "def svm_linear(X_train,y_train,X_test):\n",
    "    from sklearn.svm import SVC\n",
    "    classifier = SVC(kernel = 'linear', random_state = 0)\n",
    "    classifier.fit(X_train, y_train)\n",
    "    cm,accuracy,classifier = cm_predition(classifier,X_test)\n",
    "    return  cm,accuracy,classifier\n",
    "\n",
    "def svm_NL(X_train,y_train,X_test):\n",
    "    from sklearn.svm import SVC\n",
    "    classifier = SVC(kernel = 'rbf', random_state = 0)\n",
    "    classifier.fit(X_train, y_train)\n",
    "    cm,accuracy,classifier = cm_predition(classifier,X_test)\n",
    "    return  cm,accuracy,classifier\n",
    "\n",
    "def Navie(X_train,y_train,X_test):\n",
    "\n",
    "    from sklearn.naive_bayes import GaussianNB\n",
    "    classifier = GaussianNB()\n",
    "    classifier.fit(X_train, y_train)\n",
    "    cm,accuracy,classifier = cm_predition(classifier,X_test)\n",
    "    return  cm,accuracy,classifier\n",
    "\n",
    "\n",
    "def knn(X_train,y_train,X_test):\n",
    "\n",
    "    from sklearn.neighbors import KNeighborsClassifier\n",
    "    classifier = KNeighborsClassifier(n_neighbors = 5, metric = 'minkowski', p = 2)\n",
    "    classifier.fit(X_train, y_train)\n",
    "    cm,accuracy,classifier = cm_predition(classifier,X_test)\n",
    "    return  cm,accuracy,classifier\n",
    "\n",
    "def Decision(X_train,y_train,X_test):\n",
    "\n",
    "    from sklearn.tree import DecisionTreeClassifier\n",
    "    classifier = DecisionTreeClassifier(criterion = 'entropy', random_state = 0)\n",
    "    classifier.fit(X_train, y_train)\n",
    "    cm,accuracy,classifier = cm_predition(classifier,X_test)\n",
    "    return  cm,accuracy,classifier\n",
    "\n",
    "\n",
    "def random(X_train,y_train,X_test):\n",
    "    \n",
    "    from sklearn.ensemble import RandomForestClassifier\n",
    "    classifier = RandomForestClassifier(n_estimators = 10, criterion = 'entropy', random_state = 0)\n",
    "    classifier.fit(X_train, y_train)\n",
    "    cm,accuracy,classifier = cm_predition(classifier,X_test)\n",
    "    return  cm,accuracy,classifier\n"
   ]
  },
  {
   "cell_type": "code",
   "execution_count": 6,
   "id": "42831b00",
   "metadata": {},
   "outputs": [],
   "source": [
    "def pca_classifier(acclog,accsvmlin,accsvmnl,accnav,accknn,accdec,accrand):\n",
    "    dataframe=pd.DataFrame(index=['PCA n=4'],columns=['Logistic','SVMlin','SVMNL','Navie','KNN','DT','RF'])\n",
    "    for number,index in enumerate(dataframe.index):\n",
    "        dataframe['Logistic'][index]=acclog[number]\n",
    "        dataframe['SVMlin'][index]=accsvmlin[number]\n",
    "        dataframe['SVMNL'][index]=accsvmnl[number]\n",
    "        dataframe['Navie'][index]=accnav[number]\n",
    "        dataframe['KNN'][index]=accknn[number]\n",
    "        dataframe['DT'][index]=accdec[number]\n",
    "        dataframe['RF'][index]=accrand[number]\n",
    "    return dataframe\n",
    "    "
   ]
  },
  {
   "cell_type": "code",
   "execution_count": 7,
   "id": "3d870dcb",
   "metadata": {},
   "outputs": [],
   "source": [
    "dataset1 = pd.read_csv(\"preprocessed-Flipkart Mobile.csv\", index_col=None)\n",
    "df2 = dataset1\n",
    "df2 = pd.get_dummies(df2, drop_first=True)\n",
    "\n",
    "indpen_X = df2.drop('sales_price', axis=1)\n",
    "dep_Y = df2['sales_price']"
   ]
  },
  {
   "cell_type": "code",
   "execution_count": 8,
   "id": "70cb3e54",
   "metadata": {},
   "outputs": [
    {
     "ename": "NameError",
     "evalue": "name 'indep_X' is not defined",
     "output_type": "error",
     "traceback": [
      "\u001b[1;31m---------------------------------------------------------------------------\u001b[0m",
      "\u001b[1;31mNameError\u001b[0m                                 Traceback (most recent call last)",
      "Cell \u001b[1;32mIn[8], line 1\u001b[0m\n\u001b[1;32m----> 1\u001b[0m pca,PCA\u001b[38;5;241m=\u001b[39m pca(indep_X,\u001b[38;5;241m4\u001b[39m)\n\u001b[0;32m      3\u001b[0m acclog\u001b[38;5;241m=\u001b[39m[]\n\u001b[0;32m      4\u001b[0m accsvmlin\u001b[38;5;241m=\u001b[39m[]\n",
      "\u001b[1;31mNameError\u001b[0m: name 'indep_X' is not defined"
     ]
    }
   ],
   "source": [
    "pca,PCA= pca(indep_X,4)\n",
    "\n",
    "acclog=[]\n",
    "accsvmlin=[]\n",
    "accsvmnl=[]\n",
    "accnav=[]\n",
    "accknn=[]\n",
    "accdec=[]\n",
    "accrand=[]"
   ]
  },
  {
   "cell_type": "code",
   "execution_count": null,
   "id": "9a657d99",
   "metadata": {},
   "outputs": [],
   "source": [
    "X_train, X_test, y_train, y_test=split_scalar(PCA,dep_Y)   \n",
    "    \n",
    "        \n",
    "cm,accuracy,classifier=logistic(X_train,y_train,X_test)\n",
    "acclog.append(accuracy)\n",
    "\n",
    "cm,accuracy,classifier=svm_linear(X_train,y_train,X_test)\n",
    "accsvmlin.append(accuracy)\n",
    "\n",
    "cm,accuracy,classifier=svm_NL(X_train,y_train,X_test)\n",
    "accsvmnl.append(accuracy)\n",
    "\n",
    "cm,accuracy,classifier=Navie(X_train,y_train,X_test)\n",
    "accnav.append(accuracy)\n",
    "\n",
    "cm,accuracy,classifier=knn(X_train,y_train,X_test)\n",
    "accknn.append(accuracy)\n",
    "\n",
    "cm,accuracy,classifier=Decision(X_train,y_train,X_test)\n",
    "accdec.append(accuracy)\n",
    "\n",
    "cm,accuracy,classifier=random(X_train,y_train,X_test)\n",
    "accrand.append(accuracy)\n",
    "    \n",
    "result=pca_classifier(acclog,accsvmlin,accsvmnl,accnav,accknn,accdec,accrand)"
   ]
  },
  {
   "cell_type": "code",
   "execution_count": null,
   "id": "e858dd76",
   "metadata": {},
   "outputs": [],
   "source": [
    "result # 3"
   ]
  }
 ],
 "metadata": {
  "kernelspec": {
   "display_name": "Python 3 (ipykernel)",
   "language": "python",
   "name": "python3"
  },
  "language_info": {
   "codemirror_mode": {
    "name": "ipython",
    "version": 3
   },
   "file_extension": ".py",
   "mimetype": "text/x-python",
   "name": "python",
   "nbconvert_exporter": "python",
   "pygments_lexer": "ipython3",
   "version": "3.11.5"
  }
 },
 "nbformat": 4,
 "nbformat_minor": 5
}
